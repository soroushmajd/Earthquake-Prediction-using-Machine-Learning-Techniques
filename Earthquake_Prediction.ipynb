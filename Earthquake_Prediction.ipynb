{
  "nbformat": 4,
  "nbformat_minor": 0,
  "metadata": {
    "colab": {
      "provenance": []
    },
    "kernelspec": {
      "name": "python3",
      "display_name": "Python 3"
    },
    "language_info": {
      "name": "python"
    },
    "accelerator": "GPU"
  },
  "cells": [
    {
      "cell_type": "code",
      "execution_count": null,
      "metadata": {
        "id": "BAszeUQMQKle",
        "colab": {
          "base_uri": "https://localhost:8080/"
        },
        "outputId": "37e27146-20b0-4a31-ac87-0d8917f156ab"
      },
      "outputs": [
        {
          "output_type": "stream",
          "name": "stdout",
          "text": [
            "Requirement already satisfied: solarsystem in /usr/local/lib/python3.7/dist-packages (0.1.5)\n"
          ]
        }
      ],
      "source": [
        "!pip install solarsystem"
      ]
    },
    {
      "cell_type": "code",
      "source": [
        "import numpy as np\n",
        "import pandas as pd\n",
        "import solarsystem\n",
        "from sklearn.linear_model import LogisticRegressionCV\n",
        "from sklearn.decomposition import PCA\n",
        "from sklearn.model_selection import train_test_split\n",
        "from sklearn.linear_model import LogisticRegression\n",
        "from sklearn.preprocessing import StandardScaler\n",
        "import seaborn as sns\n",
        "import matplotlib.pyplot as plt\n",
        "import math\n",
        "from sklearn.preprocessing import MinMaxScaler"
      ],
      "metadata": {
        "id": "bgfOPcJiWsi8"
      },
      "execution_count": null,
      "outputs": []
    },
    {
      "cell_type": "code",
      "source": [
        "dataset = pd.read_excel(r\"/content/Iran1900-2020.xlsx\")"
      ],
      "metadata": {
        "id": "cklyy007W88q"
      },
      "execution_count": null,
      "outputs": []
    },
    {
      "cell_type": "code",
      "source": [
        "dataset1=pd.read_excel('Iran1900-2020.xlsx',sheet_name=1)\n",
        "dataset0=pd.read_excel('Iran1900-2020.xlsx',sheet_name=0)"
      ],
      "metadata": {
        "id": "amy5V5T8Ylur"
      },
      "execution_count": null,
      "outputs": []
    },
    {
      "cell_type": "code",
      "source": [
        "date=dataset0['Date']\n",
        "Year=[]\n",
        "Mon=[]\n",
        "Day=[]\n",
        "\n",
        "for i in date:\n",
        "  Year.append(i[0:4])\n",
        "  Mon.append(i[5:7])\n",
        "  Day.append(i[8:10])\n",
        "\n"
      ],
      "metadata": {
        "id": "VyZALl-cYwZy"
      },
      "execution_count": null,
      "outputs": []
    },
    {
      "cell_type": "code",
      "source": [
        "Time=dataset0['Time']\n",
        "Hour=[]\n",
        "for i in Time:\n",
        "  Hour.append(i[0:2])\n"
      ],
      "metadata": {
        "id": "Zq3jwqdpZgUa"
      },
      "execution_count": null,
      "outputs": []
    },
    {
      "cell_type": "code",
      "source": [
        "Lat=dataset0['Lat.']\n",
        "Long=dataset0['Long.']\n",
        "Mag=dataset0['Mag.']"
      ],
      "metadata": {
        "id": "hVuRWE-lbtvZ"
      },
      "execution_count": null,
      "outputs": []
    },
    {
      "cell_type": "code",
      "source": [
        "\n",
        "dataset0=pd.DataFrame({'Year' : Year , 'Month' : Mon , 'Day' : Day ,\n",
        "        'Hour' : Hour ,'Lat' : Lat , 'Long' : Long , 'Mag': Mag})\n",
        "print(dataset0)\n",
        "data_frame=pd.concat([dataset1,dataset0],ignore_index=True, sort=False)\n",
        "print(data_frame)"
      ],
      "metadata": {
        "id": "uoxNExHzdK_J",
        "colab": {
          "base_uri": "https://localhost:8080/"
        },
        "outputId": "1b3082f0-689f-433f-fc6f-7c46b9b9abaa"
      },
      "execution_count": null,
      "outputs": [
        {
          "output_type": "stream",
          "name": "stdout",
          "text": [
            "       Year Month Day Hour     Lat    Long  Mag\n",
            "0      2006    01  01   03  33.962  48.661  3.3\n",
            "1      2006    01  01   07  33.936  48.699  3.4\n",
            "2      2006    01  01   12  38.033  48.336  2.6\n",
            "3      2006    01  01   13  38.239  57.172  2.6\n",
            "4      2006    01  01   13  37.943  48.277  2.7\n",
            "...     ...   ...  ..  ...     ...     ...  ...\n",
            "45430  2020    10  12   12  37.983  56.022  2.6\n",
            "45431  2020    10  12   16  31.784  47.728  2.8\n",
            "45432  2020    10  12   18  38.843  43.643  2.8\n",
            "45433  2020    10  13   11  32.158  56.278  2.5\n",
            "45434  2020    10  13   13  33.929  48.570  3.1\n",
            "\n",
            "[45435 rows x 7 columns]\n",
            "       Year Month   Day     Hour     Lat    Long  Mag\n",
            "0      1900   6.0   NaN      NaN  38.500  43.300  5.0\n",
            "1      1900   7.0  12.0      NaN  40.280  43.100  5.9\n",
            "2      1902   2.0  13.0  93906.0  40.720  48.710  6.0\n",
            "3      1902   2.0  21.0      NaN  41.800  48.800  5.6\n",
            "4      1902   7.0   9.0    338.0  27.080  56.340  6.4\n",
            "...     ...   ...   ...      ...     ...     ...  ...\n",
            "54088  2020    10    12       12  37.983  56.022  2.6\n",
            "54089  2020    10    12       16  31.784  47.728  2.8\n",
            "54090  2020    10    12       18  38.843  43.643  2.8\n",
            "54091  2020    10    13       11  32.158  56.278  2.5\n",
            "54092  2020    10    13       13  33.929  48.570  3.1\n",
            "\n",
            "[54093 rows x 7 columns]\n"
          ]
        }
      ]
    },
    {
      "cell_type": "markdown",
      "source": [
        "DATASET CORRECTION"
      ],
      "metadata": {
        "id": "EdnfjpxHetJA"
      }
    },
    {
      "cell_type": "code",
      "source": [
        "data_frame=data_frame.dropna()\n",
        "data_frame = data_frame.reset_index()\n",
        "del data_frame['index']\n",
        "\n",
        "for y in data_frame.index:\n",
        "  if (int(data_frame.loc[y, \"Month\"]) > 12 ):\n",
        "    data_frame.drop(y, inplace = True)\n",
        "\n",
        "  if (int(data_frame.loc[y, \"Month\"]) < 1 ):\n",
        "    data_frame.drop(y, inplace = True)\n",
        "\n",
        "  if (int(data_frame.loc[y, \"Day\"]) > 31 ):\n",
        "    data_frame.drop(y, inplace = True)\n",
        "    \n",
        "  if (int(data_frame.loc[y, \"Day\"]) < 1 ):\n",
        "    data_frame.drop(y, inplace = True)  \n",
        "\n",
        "data_frame = data_frame.reset_index()\n",
        "del data_frame['index']    \n",
        "\n",
        "\n",
        "for y in data_frame.index:\n",
        "\n",
        "  x=str(int(data_frame.loc[y, \"Hour\"]))  \n",
        "  if ((len(x)==2) and int(x) < 25 ):\n",
        "    continue\n",
        " \n",
        "  elif (len(x)==1):\n",
        "    continue\n",
        "\n",
        "  elif ( (len(x)==2) and int(x) > 24 ):\n",
        "   data_frame.loc[y, \"Hour\"]=x[0] \n",
        "\n",
        "  elif (int(x[0:2]) < 25 ):\n",
        "    data_frame.loc[y, \"Hour\"]=int(x[0:2])\n",
        "\n",
        "  elif (int(x[0:2]) > 24 ):\n",
        "    data_frame.loc[y, \"Hour\"]=int(x[0])\n",
        "\n",
        "print(data_frame)"
      ],
      "metadata": {
        "colab": {
          "base_uri": "https://localhost:8080/"
        },
        "id": "9ZUkW234est4",
        "outputId": "516379ab-4ce8-4b15-daac-c9c396c23fe1"
      },
      "execution_count": null,
      "outputs": [
        {
          "output_type": "stream",
          "name": "stdout",
          "text": [
            "       Year Month   Day Hour  ...    latitM       disM     tetaM  label\n",
            "0      1902   2.0  13.0    9  ...  1.360985  58.457844  0.058170      1\n",
            "1      1902   7.0   9.0    3  ... -4.292471  58.557388  0.027918      1\n",
            "2      1902   9.0   5.0    4  ... -0.919051  60.767641  0.004440      1\n",
            "3      1902  10.0   3.0   23  ...  0.768923  61.789842  0.003809      1\n",
            "4      1902  10.0   4.0   14  ...  1.472140  62.153878  0.006834      1\n",
            "...     ...   ...   ...  ...  ...       ...        ...       ...    ...\n",
            "54053  2020    10    12   12  ...  4.162257  58.780740  0.030353      0\n",
            "54054  2020    10    12   16  ...  4.276932  58.618651  0.030659      0\n",
            "54055  2020    10    12   18  ...  4.331957  58.538170  0.030790      0\n",
            "54056  2020    10    13   11  ...  4.731207  57.876272  0.031340      0\n",
            "54057  2020    10    13   13  ...  4.769474  57.801768  0.031339      0\n",
            "\n",
            "[54058 rows x 59 columns]\n"
          ]
        }
      ]
    },
    {
      "cell_type": "code",
      "source": [
        "def norm(year,month,day,hour,planet):\n",
        "  E=solarsystem.geocentric.Geocentric(year=int (year), month=int (month), day=int (day), hour=int (hour), minute=0 ,UT=3.5)\n",
        "  e=E.position()\n",
        "  p=e[planet]\n",
        "  Np=np.sqrt(np.power(p[0],2)+np.power(p[1],2))\n",
        "  return Np\n",
        "def angle_sun_p(year,month,day,hour,planet):\n",
        "  year = int (year)\n",
        "  month = int (month)\n",
        "  day = int (day)\n",
        "  hour = int (hour)\n",
        "  if planet != 'Moon' :\n",
        "    E=solarsystem.geocentric.Geocentric(year=year, month=month, day=day, hour=hour, minute=0 ,UT=3.5)\n",
        "    e=E.position()   \n",
        "    sun=e['Sun']  \n",
        "    p=e[planet]\n",
        "    return Teta(sun,p)          \n",
        "\n",
        "  else:                        \n",
        "    M=solarsystem.moon.Moon(year=year, month=month, day=day, hour=hour, minute=0,UT=3.5 )\n",
        "    m=M.position()\n",
        "    E=solarsystem.geocentric.Geocentric(year=year, month=month, day=day, hour=hour, minute=0,UT=3.5 )\n",
        "    e=E.position()\n",
        "    sun=e['Sun']\n",
        "    return Teta(sun,m)  \n",
        "\n",
        "\n",
        "def Teta(sun,planet):\n",
        "  sun=np.array(sun[0:2])\n",
        "  p=np.array(planet[0:2])\n",
        "  Np=np.sqrt(np.power(p[0],2)+np.power(p[1],2))\n",
        "  Ns=np.sqrt(np.power(sun[0],2)+np.power(sun[1],2))\n",
        "  x=(p.dot(sun))/(Np*Ns)\n",
        "  teta=np.arccos(x)\n",
        "  return teta\n",
        "\n",
        "A = solarsystem.geocentric.Geocentric(year=2020, month=1, day=1, hour=12, minute=0 ,UT=3.5)\n",
        "planet_names = A.objectnames()\n",
        "\n",
        "\n",
        "def LONG_LAT(df,planet_names):\n",
        "  for i in planet_names:\n",
        "    if i != 'Sun' :\n",
        "      t = []\n",
        "      for x in df.index:\n",
        "        t.append(angle_sun_p(df.loc[x, \"Year\"],df.loc[x, \"Month\"],df.loc[x, 'Day'],df.loc[x, \"Hour\"],i))\n",
        "\n",
        "      df['teta'+i]=t\n",
        "  for planet in planet_names:\n",
        "    longit = []\n",
        "    latit = []\n",
        "    dis = []\n",
        "    for x in df.index:\n",
        "      E = solarsystem.geocentric.Geocentric(year=int(df.loc[x, \"Year\"]), month=int(df.loc[x, \"Month\"]), day=int(df.loc[x, 'Day']), hour=int(df.loc[x, \"Hour\"]), minute=0, UT=3.5,dst=1 )\n",
        "      e = E.position()\n",
        "      p = e[planet]\n",
        "      longit.append(p[0])\n",
        "      latit.append(p[1])\n",
        "      dis.append(p[2])\n",
        "    \n",
        "\n",
        "    df['longit'+ planet] = longit\n",
        "    df['lait'+ planet] = longit\n",
        "    df['dic'+ planet] = dis\n",
        "\n",
        "\n",
        "LONG_LAT(data_frame,planet_names)\n",
        "\n",
        "def MOON(df):\n",
        "  longit_m=[]\n",
        "  latit_m=[]\n",
        "  dis_m=[]\n",
        "  for x in df.index:\n",
        "    M=solarsystem.moon.Moon(year=int(df.loc[x, \"Year\"]), month=int(df.loc[x, \"Month\"]), day=int(df.loc[x, 'Day']), hour=int(df.loc[x, \"Hour\"]), minute=0 ,UT=3.5,dst=1 )\n",
        "    m=M.position()\n",
        "    longit_m.append(m[0])\n",
        "    latit_m.append(m[1])\n",
        "    dis_m.append(m[2])\n",
        "\n",
        "\n",
        "  df['longitM']=longit_m\n",
        "  df['latitM']=latit_m\n",
        "  df['disM']=dis_m\n",
        "\n",
        "  t=[]\n",
        "  for x in df.index:\n",
        "    t.append(angle_sun_p(df.loc[x, \"Year\"],df.loc[x, \"Month\"],df.loc[x, 'Day'],df.loc[x, \"Hour\"],'Moon'))\n",
        "  df['tetaM']=t\n",
        "MOON(data_frame)\n",
        "print (\"dataset and feature\\n\\n\")\n",
        "print(data_frame)\n",
        "\n",
        "\n"
      ],
      "metadata": {
        "colab": {
          "base_uri": "https://localhost:8080/"
        },
        "id": "47pE1pf4ie5o",
        "outputId": "14b78c56-40fe-4bc5-957b-fea073d1e313"
      },
      "execution_count": null,
      "outputs": [
        {
          "output_type": "stream",
          "name": "stdout",
          "text": [
            "dataset and feature\n",
            "\n",
            "\n",
            "       Year Month   Day Hour  ...    latitM       disM     tetaM  label\n",
            "0      1902   2.0  13.0    9  ...  1.360985  58.457844  0.058170      1\n",
            "1      1902   7.0   9.0    3  ... -4.292471  58.557388  0.027918      1\n",
            "2      1902   9.0   5.0    4  ... -0.919051  60.767641  0.004440      1\n",
            "3      1902  10.0   3.0   23  ...  0.768923  61.789842  0.003809      1\n",
            "4      1902  10.0   4.0   14  ...  1.472140  62.153878  0.006834      1\n",
            "...     ...   ...   ...  ...  ...       ...        ...       ...    ...\n",
            "54053  2020    10    12   12  ...  4.162257  58.780740  0.030353      0\n",
            "54054  2020    10    12   16  ...  4.276932  58.618651  0.030659      0\n",
            "54055  2020    10    12   18  ...  4.331957  58.538170  0.030790      0\n",
            "54056  2020    10    13   11  ...  4.731207  57.876272  0.031340      0\n",
            "54057  2020    10    13   13  ...  4.769474  57.801768  0.031339      0\n",
            "\n",
            "[54058 rows x 59 columns]\n"
          ]
        }
      ]
    },
    {
      "cell_type": "code",
      "source": [
        "print(data_frame.describe())"
      ],
      "metadata": {
        "colab": {
          "base_uri": "https://localhost:8080/"
        },
        "id": "X9mKt98Cdo--",
        "outputId": "d54e30b8-e2fa-4b25-a47d-50ed6c1e5974"
      },
      "execution_count": null,
      "outputs": [
        {
          "output_type": "stream",
          "name": "stdout",
          "text": [
            "                Lat          Long  ...         tetaM         label\n",
            "count  54058.000000  54058.000000  ...  54058.000000  54058.000000\n",
            "mean      32.920185     52.146044  ...      0.053257      0.082042\n",
            "std        3.833277      4.813332  ...      0.144473      0.274430\n",
            "min       22.095000     41.243000  ...      0.000001      0.000000\n",
            "25%       29.665000     47.930000  ...      0.010502      0.000000\n",
            "50%       32.658000     51.870000  ...      0.018560      0.000000\n",
            "75%       36.088000     56.490000  ...      0.036455      0.000000\n",
            "max       44.090000     66.230000  ...      3.007796      1.000000\n",
            "\n",
            "[8 rows x 55 columns]\n"
          ]
        }
      ]
    },
    {
      "cell_type": "code",
      "source": [
        "def Label(Data_Frame):\n",
        "  label=[]\n",
        "  for x in Data_Frame.index:\n",
        "    if Data_Frame.loc[x, \"Mag\"] >=4.5:\n",
        "      label.append(1)\n",
        "    else:\n",
        "      label.append(0)\n",
        "\n",
        "  Data_Frame['label']=label\n",
        "\n",
        "Label(data_frame)\n",
        "print(data_frame.head(10))\n",
        "\n",
        "print('\\n\\n labels: ',data_frame['label'].unique())"
      ],
      "metadata": {
        "colab": {
          "base_uri": "https://localhost:8080/"
        },
        "id": "ZIa1y0XwmDqG",
        "outputId": "c8473325-006d-43a3-e0fd-7294f791a28b"
      },
      "execution_count": null,
      "outputs": [
        {
          "output_type": "stream",
          "name": "stdout",
          "text": [
            "   Year Month   Day Hour  ...    latitM       disM     tetaM  label\n",
            "0  1902   2.0  13.0    9  ...  1.360985  58.457844  0.058170      1\n",
            "1  1902   7.0   9.0    3  ... -4.292471  58.557388  0.027918      1\n",
            "2  1902   9.0   5.0    4  ... -0.919051  60.767641  0.004440      1\n",
            "3  1902  10.0   3.0   23  ...  0.768923  61.789842  0.003809      1\n",
            "4  1902  10.0   4.0   14  ...  1.472140  62.153878  0.006834      1\n",
            "5  1902  10.0  17.0    7  ...  0.439973  58.185802  0.018017      1\n",
            "6  1902  10.0  26.0   11  ... -4.251165  59.491596  0.027752      1\n",
            "7  1902  12.0   2.0    4  ...  4.676212  63.639740  0.017389      1\n",
            "8  1902  12.0   4.0   22  ...  5.083206  63.396530  0.016775      1\n",
            "9  1903   1.0   2.0    7  ...  4.573130  63.139354  0.014410      1\n",
            "\n",
            "[10 rows x 59 columns]\n",
            "\n",
            "\n",
            " labels:  [1 0]\n"
          ]
        }
      ]
    },
    {
      "cell_type": "code",
      "source": [
        "featur_name=[]\n",
        "for col in data_frame.columns:\n",
        "  if col=='Year' or col=='Month' or col=='Day' or col=='Hour' or col=='label' or col=='Mag':\n",
        "    \n",
        "    pass\n",
        "  else: \n",
        "    \n",
        "    featur_name.append(col)"
      ],
      "metadata": {
        "id": "tfUUe-iNmWoW"
      },
      "execution_count": null,
      "outputs": []
    },
    {
      "cell_type": "markdown",
      "source": [
        "Normallization"
      ],
      "metadata": {
        "id": "hog-CVlImqvu"
      }
    },
    {
      "cell_type": "code",
      "source": [
        "from sklearn.preprocessing import MinMaxScaler\n",
        "scaler = MinMaxScaler(feature_range=(0,1))\n",
        "#featur_name.append('label')            \n",
        "dfn=scaler.fit_transform(data_frame[featur_name])\n",
        "\n",
        "dfN=pd.DataFrame()\n",
        "i=0\n",
        "for col in featur_name:\n",
        "  l=dfn[:,i]\n",
        "  dfN[col]=l\n",
        "  i+=1\n",
        "\n",
        "l=data_frame['label']\n",
        "dfN['label']=l            ########***************************\n",
        "print(dfN.shape)\n",
        "print(dfN)"
      ],
      "metadata": {
        "colab": {
          "base_uri": "https://localhost:8080/"
        },
        "id": "jh7YxJDbn5B2",
        "outputId": "89d55bc0-de17-4b42-f4ae-f0684896e9e6"
      },
      "execution_count": null,
      "outputs": [
        {
          "output_type": "stream",
          "name": "stdout",
          "text": [
            "(54058, 54)\n",
            "            Lat      Long  tetaMercury  ...      disM     tetaM  label\n",
            "0      0.846783  0.298835     0.005784  ...  0.326557  0.019339      1\n",
            "1      0.226642  0.604194     0.029402  ...  0.339357  0.009281      1\n",
            "2      0.791316  0.270421     0.000499  ...  0.623563  0.001476      1\n",
            "3      0.900432  0.174371     0.010426  ...  0.755003  0.001266      1\n",
            "4      0.900432  0.174371     0.010479  ...  0.801812  0.002272      1\n",
            "...         ...       ...          ...  ...       ...       ...    ...\n",
            "54053  0.722346  0.591468     0.009811  ...  0.368077  0.010091      0\n",
            "54054  0.440509  0.259535     0.009800  ...  0.347235  0.010193      0\n",
            "54055  0.761446  0.096050     0.009794  ...  0.336886  0.010236      0\n",
            "54056  0.457513  0.601713     0.009731  ...  0.251776  0.010419      0\n",
            "54057  0.538031  0.293232     0.009722  ...  0.242196  0.010419      0\n",
            "\n",
            "[54058 rows x 54 columns]\n"
          ]
        }
      ]
    },
    {
      "cell_type": "code",
      "source": [
        "print(dfN.describe())"
      ],
      "metadata": {
        "colab": {
          "base_uri": "https://localhost:8080/"
        },
        "id": "SXmplzzPdga2",
        "outputId": "f3240dfd-661b-4b6b-c36c-ba167eaba77e"
      },
      "execution_count": null,
      "outputs": [
        {
          "output_type": "stream",
          "name": "stdout",
          "text": [
            "                Lat          Long  ...         tetaM         label\n",
            "count  54058.000000  54058.000000  ...  54058.000000  54058.000000\n",
            "mean       0.492166      0.436349  ...      0.017706      0.082042\n",
            "std        0.174279      0.192633  ...      0.048033      0.274430\n",
            "min        0.000000      0.000000  ...      0.000000      0.000000\n",
            "25%        0.344169      0.267619  ...      0.003491      0.000000\n",
            "50%        0.480246      0.425301  ...      0.006170      0.000000\n",
            "75%        0.636190      0.610197  ...      0.012120      0.000000\n",
            "max        1.000000      1.000000  ...      1.000000      1.000000\n",
            "\n",
            "[8 rows x 54 columns]\n"
          ]
        }
      ]
    },
    {
      "cell_type": "code",
      "source": [
        "print(featur_name)\n",
        "\n",
        "print(len(featur_name))\n",
        "X = dfN.loc[:, featur_name].to_numpy()\n",
        "print(X.shape)\n",
        "\n",
        "y = dfN.loc[:, ['label']].to_numpy()\n",
        "\n",
        "X = StandardScaler().fit_transform(X)\n",
        "X_train, X_test, y_train, y_test = train_test_split(\n",
        "    X, y, test_size=0.2, random_state=2020)\n",
        "print(X_train.shape)"
      ],
      "metadata": {
        "colab": {
          "base_uri": "https://localhost:8080/"
        },
        "id": "L3ntjO_OoWWf",
        "outputId": "cac2eac1-5bcc-4cf8-8810-b9f83b9dc9ec"
      },
      "execution_count": null,
      "outputs": [
        {
          "output_type": "stream",
          "name": "stdout",
          "text": [
            "['Lat', 'Long', 'tetaMercury', 'tetaVenus', 'tetaMars', 'tetaJupiter', 'tetaSaturn', 'tetaUranus', 'tetaNeptune', 'tetaPluto', 'tetaCeres', 'tetaChiron', 'tetaEris', 'longitSun', 'laitSun', 'dicSun', 'longitMercury', 'laitMercury', 'dicMercury', 'longitVenus', 'laitVenus', 'dicVenus', 'longitMars', 'laitMars', 'dicMars', 'longitJupiter', 'laitJupiter', 'dicJupiter', 'longitSaturn', 'laitSaturn', 'dicSaturn', 'longitUranus', 'laitUranus', 'dicUranus', 'longitNeptune', 'laitNeptune', 'dicNeptune', 'longitPluto', 'laitPluto', 'dicPluto', 'longitCeres', 'laitCeres', 'dicCeres', 'longitChiron', 'laitChiron', 'dicChiron', 'longitEris', 'laitEris', 'dicEris', 'longitM', 'latitM', 'disM', 'tetaM']\n",
            "53\n",
            "(54058, 53)\n",
            "(43246, 53)\n"
          ]
        }
      ]
    },
    {
      "cell_type": "markdown",
      "source": [
        "Logistic Regression"
      ],
      "metadata": {
        "id": "Z5LfTJfx-o_V"
      }
    },
    {
      "cell_type": "code",
      "source": [
        "logReg_clf = LogisticRegression(max_iter=100000)\n",
        "logReg_clf.fit(X_train, y_train)"
      ],
      "metadata": {
        "colab": {
          "base_uri": "https://localhost:8080/"
        },
        "id": "xvivDyb3-qw2",
        "outputId": "e0218ad9-7d42-439e-f51a-0626519dc1aa"
      },
      "execution_count": null,
      "outputs": [
        {
          "output_type": "stream",
          "name": "stderr",
          "text": [
            "/usr/local/lib/python3.7/dist-packages/sklearn/utils/validation.py:993: DataConversionWarning: A column-vector y was passed when a 1d array was expected. Please change the shape of y to (n_samples, ), for example using ravel().\n",
            "  y = column_or_1d(y, warn=True)\n"
          ]
        },
        {
          "output_type": "execute_result",
          "data": {
            "text/plain": [
              "LogisticRegression(max_iter=100000)"
            ]
          },
          "metadata": {},
          "execution_count": 96
        }
      ]
    },
    {
      "cell_type": "code",
      "metadata": {
        "id": "CyDpRt97rbAk",
        "colab": {
          "base_uri": "https://localhost:8080/"
        },
        "outputId": "6fd7e285-6bc7-4912-af9f-0b9dc2e9db88"
      },
      "source": [
        "from sklearn.metrics import accuracy_score, classification_report, SCORERS\n",
        "y_test=y_test.squeeze()\n",
        "predictions = logReg_clf.predict(X_test)\n",
        "score = accuracy_score(y_test, predictions)\n",
        "confusion_matrix = pd.crosstab(y_test, predictions, rownames=['Actual'], colnames=['Predicted'])\n",
        "print(confusion_matrix)\n",
        "print(classification_report(y_test, predictions))\n",
        "\n",
        "   "
      ],
      "execution_count": null,
      "outputs": [
        {
          "output_type": "stream",
          "name": "stdout",
          "text": [
            "Predicted     0    1\n",
            "Actual              \n",
            "0          9644  241\n",
            "1           478  449\n",
            "              precision    recall  f1-score   support\n",
            "\n",
            "           0       0.95      0.98      0.96      9885\n",
            "           1       0.65      0.48      0.56       927\n",
            "\n",
            "    accuracy                           0.93     10812\n",
            "   macro avg       0.80      0.73      0.76     10812\n",
            "weighted avg       0.93      0.93      0.93     10812\n",
            "\n"
          ]
        }
      ]
    },
    {
      "cell_type": "code",
      "source": [
        "from sklearn.datasets import make_classification\n",
        "from sklearn.linear_model import LogisticRegression\n",
        "from matplotlib import pyplot\n",
        "\n",
        "importance = logReg_clf.coef_[0]\n",
        "\n",
        "# summarize feature importance\n",
        "for i,v in enumerate(importance):\n",
        "\tprint('Feature: %0d, Score: %.5f' % (i,v))\n",
        " \n",
        "\n",
        "# plot feature importance\n",
        "pyplot.bar([x for x in range(len(importance))], importance)\n",
        "pyplot.show()"
      ],
      "metadata": {
        "colab": {
          "base_uri": "https://localhost:8080/",
          "height": 1000
        },
        "id": "qM_3zvPvVNKM",
        "outputId": "80cc4812-884d-40dc-c898-39de312c7143"
      },
      "execution_count": null,
      "outputs": [
        {
          "output_type": "stream",
          "name": "stdout",
          "text": [
            "Feature: 0, Score: -0.17766\n",
            "Feature: 1, Score: 0.06545\n",
            "Feature: 2, Score: -0.00356\n",
            "Feature: 3, Score: 0.01613\n",
            "Feature: 4, Score: -0.03426\n",
            "Feature: 5, Score: 0.01378\n",
            "Feature: 6, Score: -0.13074\n",
            "Feature: 7, Score: -0.24797\n",
            "Feature: 8, Score: -1.09175\n",
            "Feature: 9, Score: 2.29173\n",
            "Feature: 10, Score: -0.03574\n",
            "Feature: 11, Score: 0.29833\n",
            "Feature: 12, Score: 2.17592\n",
            "Feature: 13, Score: -0.00191\n",
            "Feature: 14, Score: -0.00191\n",
            "Feature: 15, Score: 0.00094\n",
            "Feature: 16, Score: -0.05109\n",
            "Feature: 17, Score: -0.05109\n",
            "Feature: 18, Score: 0.00794\n",
            "Feature: 19, Score: -0.00934\n",
            "Feature: 20, Score: -0.00934\n",
            "Feature: 21, Score: 0.01034\n",
            "Feature: 22, Score: -0.01654\n",
            "Feature: 23, Score: -0.01654\n",
            "Feature: 24, Score: 0.00241\n",
            "Feature: 25, Score: -0.05798\n",
            "Feature: 26, Score: -0.05798\n",
            "Feature: 27, Score: 0.04626\n",
            "Feature: 28, Score: 0.07477\n",
            "Feature: 29, Score: 0.07477\n",
            "Feature: 30, Score: -0.07680\n",
            "Feature: 31, Score: -0.34496\n",
            "Feature: 32, Score: -0.34496\n",
            "Feature: 33, Score: 0.09582\n",
            "Feature: 34, Score: 1.80030\n",
            "Feature: 35, Score: 1.80030\n",
            "Feature: 36, Score: -0.21362\n",
            "Feature: 37, Score: -1.00532\n",
            "Feature: 38, Score: -1.00532\n",
            "Feature: 39, Score: 1.08874\n",
            "Feature: 40, Score: -0.01289\n",
            "Feature: 41, Score: -0.01289\n",
            "Feature: 42, Score: -0.05275\n",
            "Feature: 43, Score: 0.04710\n",
            "Feature: 44, Score: 0.04710\n",
            "Feature: 45, Score: -0.09899\n",
            "Feature: 46, Score: 0.41138\n",
            "Feature: 47, Score: 0.41138\n",
            "Feature: 48, Score: 0.04012\n",
            "Feature: 49, Score: -0.02695\n",
            "Feature: 50, Score: -0.01849\n",
            "Feature: 51, Score: 0.02945\n",
            "Feature: 52, Score: -0.00216\n"
          ]
        },
        {
          "output_type": "display_data",
          "data": {
            "image/png": "[encoded data removed]",
            "text/plain": [
              "<Figure size 432x288 with 1 Axes>"
            ]
          },
          "metadata": {
            "needs_background": "light"
          }
        }
      ]
    },
    {
      "cell_type": "code",
      "source": [
        "from sklearn.inspection import permutation_importance\n",
        "\n",
        "\n",
        "Z = [featur_name for _,featur_name in sorted(zip(importance,featur_name))]\n",
        "print(importance)\n",
        "f = plt.figure()\n",
        "f.set_figwidth(15)\n",
        "f.set_figheight(15)\n",
        "plt.yticks(range(len(featur_name)), featur_name)\n",
        "plt.barh(sorted(featur_name), importance, color=\"maroon\")\n",
        "plt.xlabel(\"Permutation Importance\")"
      ],
      "metadata": {
        "colab": {
          "base_uri": "https://localhost:8080/",
          "height": 1000
        },
        "id": "agevK6wfz4wP",
        "outputId": "c284cc0b-9b2b-42e6-a310-cbb64e973bfe"
      },
      "execution_count": null,
      "outputs": [
        {
          "output_type": "stream",
          "name": "stdout",
          "text": [
            "[-1.77661966e-01  6.54457066e-02 -3.55656780e-03  1.61264603e-02\n",
            " -3.42624064e-02  1.37778340e-02 -1.30743119e-01 -2.47968916e-01\n",
            " -1.09175275e+00  2.29173037e+00 -3.57357604e-02  2.98334973e-01\n",
            "  2.17592247e+00 -1.91331793e-03 -1.91331793e-03  9.42290866e-04\n",
            " -5.10944040e-02 -5.10944040e-02  7.94166923e-03 -9.34345147e-03\n",
            " -9.34345147e-03  1.03350657e-02 -1.65357957e-02 -1.65357957e-02\n",
            "  2.41085373e-03 -5.79771213e-02 -5.79771213e-02  4.62569051e-02\n",
            "  7.47687040e-02  7.47687040e-02 -7.67964098e-02 -3.44962178e-01\n",
            " -3.44962178e-01  9.58161572e-02  1.80029916e+00  1.80029916e+00\n",
            " -2.13618282e-01 -1.00531794e+00 -1.00531794e+00  1.08873933e+00\n",
            " -1.28888201e-02 -1.28888201e-02 -5.27454463e-02  4.71015719e-02\n",
            "  4.71015719e-02 -9.89869104e-02  4.11376158e-01  4.11376158e-01\n",
            "  4.01175379e-02 -2.69487102e-02 -1.84874817e-02  2.94541356e-02\n",
            " -2.16445033e-03]\n"
          ]
        },
        {
          "output_type": "execute_result",
          "data": {
            "text/plain": [
              "Text(0.5, 0, 'Permutation Importance')"
            ]
          },
          "metadata": {},
          "execution_count": 112
        },
        {
          "output_type": "display_data",
          "data": {
            "image/png": "[encoded data removed]",
            "text/plain": [
              "<Figure size 1080x1080 with 1 Axes>"
            ]
          },
          "metadata": {
            "needs_background": "light"
          }
        }
      ]
    },
    {
      "cell_type": "code",
      "source": [
        "arr = importance\n",
        "for i in range(0, len(arr)):    \n",
        "    for j in range(i+1, len(arr)):    \n",
        "        if(arr[i] > arr[j]):    \n",
        "            temp = arr[i];    \n",
        "            arr[i] = arr[j];    \n",
        "            arr[j] = temp;    \n",
        "print (Z)\n",
        "f = plt.figure()\n",
        "f.set_figwidth(15)\n",
        "f.set_figheight(15)\n",
        "\n",
        "plt.yticks(range(len(Z)), Z)\n",
        "plt.barh(sorted(Z), arr, color=\"maroon\")\n",
        "plt.xlabel(\"Permutation Importance\")"
      ],
      "metadata": {
        "colab": {
          "base_uri": "https://localhost:8080/",
          "height": 932
        },
        "id": "xlGwNDlHJ2Ro",
        "outputId": "d4b10a94-3823-449c-8afe-beecce1a71d9"
      },
      "execution_count": null,
      "outputs": [
        {
          "output_type": "stream",
          "name": "stdout",
          "text": [
            "['tetaNeptune', 'laitPluto', 'longitPluto', 'laitUranus', 'longitUranus', 'tetaUranus', 'dicNeptune', 'Lat', 'tetaSaturn', 'dicChiron', 'dicSaturn', 'laitJupiter', 'longitJupiter', 'dicCeres', 'laitMercury', 'longitMercury', 'tetaCeres', 'tetaMars', 'longitM', 'latitM', 'laitMars', 'longitMars', 'laitCeres', 'longitCeres', 'laitVenus', 'longitVenus', 'tetaMercury', 'tetaM', 'laitSun', 'longitSun', 'dicSun', 'dicMars', 'dicMercury', 'dicVenus', 'tetaJupiter', 'tetaVenus', 'disM', 'dicEris', 'dicJupiter', 'laitChiron', 'longitChiron', 'Long', 'laitSaturn', 'longitSaturn', 'dicUranus', 'tetaChiron', 'laitEris', 'longitEris', 'dicPluto', 'laitNeptune', 'longitNeptune', 'tetaEris', 'tetaPluto']\n"
          ]
        },
        {
          "output_type": "execute_result",
          "data": {
            "text/plain": [
              "Text(0.5, 0, 'Permutation Importance')"
            ]
          },
          "metadata": {},
          "execution_count": 117
        },
        {
          "output_type": "display_data",
          "data": {
            "image/png": "[encoded data removed]",
            "text/plain": [
              "<Figure size 1080x1080 with 1 Axes>"
            ]
          },
          "metadata": {
            "needs_background": "light"
          }
        }
      ]
    },
    {
      "cell_type": "markdown",
      "source": [
        "SVM"
      ],
      "metadata": {
        "id": "VX6s1Eus5t6W"
      }
    },
    {
      "cell_type": "code",
      "source": [
        "from sklearn.svm import SVC\n",
        "svclassifier = SVC(kernel='poly', degree=8)\n",
        "svclassifier.fit(X_train, y_train)\n",
        "y_pred = svclassifier.predict(X_test)\n",
        "from sklearn.metrics import classification_report, confusion_matrix\n",
        "print(confusion_matrix(y_test, y_pred))\n",
        "print(classification_report(y_test, y_pred))"
      ],
      "metadata": {
        "colab": {
          "base_uri": "https://localhost:8080/"
        },
        "id": "lh_yHCfN5FW1",
        "outputId": "ff4a517a-f04b-4083-f202-57f80f755154"
      },
      "execution_count": null,
      "outputs": [
        {
          "output_type": "stream",
          "name": "stderr",
          "text": [
            "/usr/local/lib/python3.7/dist-packages/sklearn/utils/validation.py:993: DataConversionWarning: A column-vector y was passed when a 1d array was expected. Please change the shape of y to (n_samples, ), for example using ravel().\n",
            "  y = column_or_1d(y, warn=True)\n"
          ]
        },
        {
          "output_type": "stream",
          "name": "stdout",
          "text": [
            "[[9707  178]\n",
            " [ 530  397]]\n",
            "              precision    recall  f1-score   support\n",
            "\n",
            "           0       0.95      0.98      0.96      9885\n",
            "           1       0.69      0.43      0.53       927\n",
            "\n",
            "    accuracy                           0.93     10812\n",
            "   macro avg       0.82      0.71      0.75     10812\n",
            "weighted avg       0.93      0.93      0.93     10812\n",
            "\n"
          ]
        }
      ]
    },
    {
      "cell_type": "code",
      "source": [
        "from sklearn.svm import SVC\n",
        "from sklearn.metrics import roc_curve\n",
        "from sklearn.metrics import roc_auc_score\n",
        "\n",
        "\n",
        "model = SVC(kernel=\"linear\", probability=True)\n",
        "model.fit(X_train, y_train)\n",
        "\n",
        "\n",
        "decision_scores = model.decision_function(X_test)\n",
        "fpr, tpr, thres = roc_curve(y_test, decision_scores)\n",
        "print('AUC: {:.3f}'.format(roc_auc_score(y_test, decision_scores)))\n",
        "\n",
        "# roc curve\n",
        "plt.plot(fpr, tpr, \"b\", label='Linear SVM')\n",
        "plt.plot([0,1],[0,1], \"k--\", label='Random Guess')\n",
        "plt.xlabel(\"false positive rate\")\n",
        "plt.ylabel(\"true positive rate\")\n",
        "plt.legend(loc=\"best\")\n",
        "plt.title(\"ROC curve\")\n",
        "plt.show()"
      ],
      "metadata": {
        "colab": {
          "base_uri": "https://localhost:8080/",
          "height": 346
        },
        "id": "WeR9DezHcZdX",
        "outputId": "b938ac53-e60e-4aee-f71c-9fdd1c6abab2"
      },
      "execution_count": null,
      "outputs": [
        {
          "output_type": "stream",
          "name": "stderr",
          "text": [
            "/usr/local/lib/python3.7/dist-packages/sklearn/utils/validation.py:993: DataConversionWarning: A column-vector y was passed when a 1d array was expected. Please change the shape of y to (n_samples, ), for example using ravel().\n",
            "  y = column_or_1d(y, warn=True)\n"
          ]
        },
        {
          "output_type": "stream",
          "name": "stdout",
          "text": [
            "AUC: 0.827\n"
          ]
        },
        {
          "output_type": "display_data",
          "data": {
            "image/png": "[encoded data removed]",
            "text/plain": [
              "<Figure size 432x288 with 1 Axes>"
            ]
          },
          "metadata": {
            "needs_background": "light"
          }
        }
      ]
    },
    {
      "cell_type": "markdown",
      "source": [
        "Prediction"
      ],
      "metadata": {
        "id": "JJ-XLwUFP7D9"
      }
    },
    {
      "cell_type": "markdown",
      "source": [
        "svc linear kernel"
      ],
      "metadata": {
        "id": "AzSDO0ejRR4P"
      }
    },
    {
      "cell_type": "code",
      "source": [
        "model.predict(X_test,y_test)"
      ],
      "metadata": {
        "id": "1Mvx6NTJRIZt"
      },
      "execution_count": null,
      "outputs": []
    },
    {
      "cell_type": "markdown",
      "source": [
        "svc poly kernel"
      ],
      "metadata": {
        "id": "yCP3RQF6RUeN"
      }
    },
    {
      "cell_type": "code",
      "source": [
        "svclassifier.predict(X_test,y_test)"
      ],
      "metadata": {
        "id": "mXnOXYx3RK7u"
      },
      "execution_count": null,
      "outputs": []
    },
    {
      "cell_type": "markdown",
      "source": [
        "linear regression "
      ],
      "metadata": {
        "id": "VNrz3bW8RXRe"
      }
    },
    {
      "cell_type": "code",
      "source": [
        "clf.predict(X_test,y_test)"
      ],
      "metadata": {
        "id": "AMES5Z5yRfa6"
      },
      "execution_count": null,
      "outputs": []
    }
  ]
}